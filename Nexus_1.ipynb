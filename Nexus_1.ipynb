{
 "cells": [
  {
   "cell_type": "code",
   "execution_count": 1,
   "id": "89c68bc7",
   "metadata": {},
   "outputs": [
    {
     "name": "stdout",
     "output_type": "stream",
     "text": [
      "Hello! I'm your friendly Chatbot. How can I help you today?\n",
      "User: What is your pourpose?\n",
      "Chatbot: I'm not sure how to answer that. Can you ask me something else?\n",
      "User: what is your purpose?\n",
      "Chatbot: I am here to assist you with any questions you may have.\n",
      "User: wha is your name\n",
      "Chatbot: I am Chatbot, your virtual assistant.\n",
      "User: Thank you\n",
      "Chatbot: I'm not sure how to answer that. Can you ask me something else?\n",
      "User: how are you?\n",
      "Chatbot: I'm just a program, but thanks for asking! How can I assist you today?\n",
      "User: end\n",
      "Chatbot: I'm not sure how to answer that. Can you ask me something else?\n",
      "User: bye\n",
      "Goodbye! If you have more questions, feel free to ask.\n",
      "Chatbot session ended.\n"
     ]
    }
   ],
   "source": [
    "import random\n",
    "\n",
    "def greeting():\n",
    "    print(\"Hello! I'm your friendly Chatbot. How can I help you today?\")\n",
    "\n",
    "def farewell():\n",
    "    print(\"Goodbye! If you have more questions, feel free to ask.\")\n",
    "\n",
    "def handle_question(question):\n",
    "    if \"your name\" in question:\n",
    "        return \"I am Chatbot, your virtual assistant.\"\n",
    "    elif \"purpose\" in question:\n",
    "        return \"I am here to assist you with any questions you may have.\"\n",
    "    elif \"capabilities\" in question:\n",
    "        return \"I can answer your questions, provide information, and have a chat with you.\"\n",
    "    elif \"how are you\" in question:\n",
    "        return \"I'm just a program, but thanks for asking! How can I assist you today?\"\n",
    "    elif \"thank you\" in question:\n",
    "        return \"You're welcome! If you need anything else, feel free to ask.\"\n",
    "    else:\n",
    "        return \"I'm not sure how to answer that. Can you ask me something else?\"\n",
    "\n",
    "def chat_flow():\n",
    "    questions = [\n",
    "        \"What is your purpose?\",\n",
    "        \"Can you tell me your name?\",\n",
    "        \"How are you today?\",\n",
    "    ]\n",
    "\n",
    "    for question in questions:\n",
    "        user_response = input(question + \"\\nUser: \")\n",
    "        response = handle_question(user_response)\n",
    "        print(\"Chatbot:\", response)\n",
    "\n",
    "def handle_user_input(user_input):\n",
    "    if user_input.lower() in [\"exit\", \"bye\", \"quit\"]:\n",
    "        farewell()\n",
    "        return True\n",
    "    else:\n",
    "        response = handle_question(user_input)\n",
    "        print(\"Chatbot:\", response)\n",
    "        return False\n",
    "\n",
    "def main():\n",
    "    greeting()\n",
    "\n",
    "    while True:\n",
    "        user_input = input(\"User: \")\n",
    "\n",
    "        if handle_user_input(user_input):\n",
    "            break\n",
    "\n",
    "    print(\"Chatbot session ended.\")\n",
    "\n",
    "if __name__ == \"__main__\":\n",
    "    main()\n"
   ]
  },
  {
   "cell_type": "code",
   "execution_count": null,
   "id": "cf37f06e",
   "metadata": {},
   "outputs": [],
   "source": []
  }
 ],
 "metadata": {
  "kernelspec": {
   "display_name": "Python 3 (ipykernel)",
   "language": "python",
   "name": "python3"
  },
  "language_info": {
   "codemirror_mode": {
    "name": "ipython",
    "version": 3
   },
   "file_extension": ".py",
   "mimetype": "text/x-python",
   "name": "python",
   "nbconvert_exporter": "python",
   "pygments_lexer": "ipython3",
   "version": "3.9.12"
  }
 },
 "nbformat": 4,
 "nbformat_minor": 5
}
